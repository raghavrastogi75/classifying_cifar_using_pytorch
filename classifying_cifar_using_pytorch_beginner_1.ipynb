{
  "cells": [
    {
      "cell_type": "markdown",
      "metadata": {
        "id": "aa907707"
      },
      "source": [
        "# Supervised Machine Learning Project code\n",
        "### Raghav Rastogi\n",
        "\n",
        "Techniques used are Convolution neural network and Logistic regression on CIFAR10 dataset and comparing the results\n"
      ],
      "id": "aa907707"
    },
    {
      "cell_type": "markdown",
      "metadata": {
        "id": "b90fe29a"
      },
      "source": [
        "# Importing the libraries"
      ],
      "id": "b90fe29a"
    },
    {
      "cell_type": "code",
      "execution_count": null,
      "metadata": {
        "id": "bc3de9ca"
      },
      "outputs": [],
      "source": [
        "import torchvision\n",
        "import torch\n",
        "import numpy as np\n",
        "from torch import nn\n",
        "from torchvision import transforms\n",
        "from torch.utils.data import DataLoader\n",
        "import torch.nn.functional as F\n",
        "import torch.optim as optim\n",
        "import time\n",
        "import pandas as pd\n",
        "import torchvision.datasets as datasets\n",
        "from IPython import display\n",
        "import matplotlib.pyplot as plt\n",
        "import torchvision.transforms"
      ],
      "id": "bc3de9ca"
    },
    {
      "cell_type": "markdown",
      "source": [
        "# Defining the batch size and loading data to dataloader"
      ],
      "metadata": {
        "id": "t9G_P2xwnsma"
      },
      "id": "t9G_P2xwnsma"
    },
    {
      "cell_type": "code",
      "execution_count": null,
      "metadata": {
        "colab": {
          "base_uri": "https://localhost:8080/",
          "height": 104,
          "referenced_widgets": [
            "bb2f93ef592c4ec1bfcedabeefc1e267",
            "c560324abd924356b02846490199b7ed",
            "0e1574f90e734816b441e4ad6c1e3029",
            "7623117b094944e7a0ed129d676832db",
            "3dcef636f56947d8913b6d3976601b2e",
            "3d3051fa629049d18a83f982808c3cad",
            "d3d8da4f77c74a1c931c92dea4e59c1f",
            "b304fcadfd6d445b89ec1954dc571be1",
            "e8d92174b0874bc1a64bdb42c08af1f0",
            "24f444ba1f9d4941b2c5e245252f63c4",
            "2927b7e4bace461191397f834abb9795"
          ]
        },
        "id": "c4f5d6a5",
        "outputId": "a15a80b3-d66b-4225-b513-c7ffb11e7fb5"
      },
      "outputs": [
        {
          "output_type": "stream",
          "name": "stdout",
          "text": [
            "Downloading https://www.cs.toronto.edu/~kriz/cifar-10-python.tar.gz to data/cifar-10-python.tar.gz\n"
          ]
        },
        {
          "output_type": "display_data",
          "data": {
            "text/plain": [
              "  0%|          | 0/170498071 [00:00<?, ?it/s]"
            ],
            "application/vnd.jupyter.widget-view+json": {
              "version_major": 2,
              "version_minor": 0,
              "model_id": "bb2f93ef592c4ec1bfcedabeefc1e267"
            }
          },
          "metadata": {}
        },
        {
          "output_type": "stream",
          "name": "stdout",
          "text": [
            "Extracting data/cifar-10-python.tar.gz to data\n",
            "Files already downloaded and verified\n"
          ]
        }
      ],
      "source": [
        "batch_size = 64\n",
        "transform = transforms.Compose([transforms.Resize(64), transforms.ToTensor(),\n",
        "    transforms.Normalize(mean=[0.485, 0.456, 0.406], std=[0.229, 0.224, 0.225])])\n",
        "\n",
        "train_ds = DataLoader(datasets.CIFAR10(\"data\", train=True, transform=transform, download=True), batch_size=batch_size)\n",
        "test_ds = DataLoader(datasets.CIFAR10(\"data\", train=False, transform=transform, download=True), batch_size=batch_size)\n"
      ],
      "id": "c4f5d6a5"
    },
    {
      "cell_type": "markdown",
      "source": [
        "# Defining the Convolution Neural Network model"
      ],
      "metadata": {
        "id": "7kRb9GW5n0db"
      },
      "id": "7kRb9GW5n0db"
    },
    {
      "cell_type": "code",
      "execution_count": null,
      "metadata": {
        "id": "72c4c63f"
      },
      "outputs": [],
      "source": [
        "class CNNModel(nn.Module):\n",
        "    \n",
        "    def __init__(self, num_classes):\n",
        "        super(CNNModel, self).__init__()\n",
        "        self.features = nn.Sequential(\n",
        "            nn.Conv2d(3, 64, kernel_size=3, padding=1),\n",
        "            nn.ReLU(),\n",
        "            nn.MaxPool2d(kernel_size=2, stride=2),\n",
        "            nn.Conv2d(64, 128, kernel_size=3, padding=1),\n",
        "            nn.ReLU(),\n",
        "            nn.MaxPool2d(kernel_size=2, stride=2),\n",
        "            nn.Conv2d(128, 256, kernel_size=3, padding=1),\n",
        "            nn.ReLU(),\n",
        "            nn.Conv2d(256, 256, kernel_size=3, padding=1),\n",
        "            nn.ReLU(),\n",
        "            nn.MaxPool2d(kernel_size=2, stride=2),\n",
        "            nn.Conv2d(256, 512, kernel_size=3, padding=1),\n",
        "            nn.ReLU(),\n",
        "            nn.MaxPool2d(kernel_size=2, stride=2)\n",
        "        )\n",
        "        self.avgpool = nn.AdaptiveAvgPool2d((6, 6))\n",
        "        self.classifier = nn.Sequential(\n",
        "            nn.Dropout(),\n",
        "            nn.Linear(512 * 6 * 6, 8192),\n",
        "            nn.ReLU(),\n",
        "            nn.Dropout(),\n",
        "            nn.Linear(8192, 4096),\n",
        "            nn.ReLU(),\n",
        "            nn.Linear(4096, num_classes)\n",
        "        )\n",
        "    \n",
        "    def forward(self, x):\n",
        "        x = self.features(x)\n",
        "        x = self.avgpool(x)\n",
        "        x = torch.flatten(x, 1)\n",
        "        x = self.classifier(x)\n",
        "        return x"
      ],
      "id": "72c4c63f"
    },
    {
      "cell_type": "markdown",
      "source": [
        "Initialising the model"
      ],
      "metadata": {
        "id": "I9BVIlAaog3J"
      },
      "id": "I9BVIlAaog3J"
    },
    {
      "cell_type": "code",
      "execution_count": null,
      "metadata": {
        "id": "0b9a14fe"
      },
      "outputs": [],
      "source": [
        "model = CNNModel(num_classes=10)"
      ],
      "id": "0b9a14fe"
    },
    {
      "cell_type": "markdown",
      "source": [
        "Choosing the ADAM optimizer and Crossentropy loss function"
      ],
      "metadata": {
        "id": "Qqy0thTFokcE"
      },
      "id": "Qqy0thTFokcE"
    },
    {
      "cell_type": "code",
      "execution_count": null,
      "metadata": {
        "id": "05e4991e"
      },
      "outputs": [],
      "source": [
        "optimizer = optim.Adam(model.parameters(), lr=0.001)\n",
        "loss_fn = nn.CrossEntropyLoss()"
      ],
      "id": "05e4991e"
    },
    {
      "cell_type": "code",
      "execution_count": null,
      "metadata": {
        "colab": {
          "base_uri": "https://localhost:8080/"
        },
        "id": "b2e8c108",
        "outputId": "bd817b70-4c6d-4430-82b7-beeabe681360"
      },
      "outputs": [
        {
          "output_type": "execute_result",
          "data": {
            "text/plain": [
              "CNNModel(\n",
              "  (features): Sequential(\n",
              "    (0): Conv2d(3, 64, kernel_size=(3, 3), stride=(1, 1), padding=(1, 1))\n",
              "    (1): ReLU()\n",
              "    (2): MaxPool2d(kernel_size=2, stride=2, padding=0, dilation=1, ceil_mode=False)\n",
              "    (3): Conv2d(64, 128, kernel_size=(3, 3), stride=(1, 1), padding=(1, 1))\n",
              "    (4): ReLU()\n",
              "    (5): MaxPool2d(kernel_size=2, stride=2, padding=0, dilation=1, ceil_mode=False)\n",
              "    (6): Conv2d(128, 256, kernel_size=(3, 3), stride=(1, 1), padding=(1, 1))\n",
              "    (7): ReLU()\n",
              "    (8): Conv2d(256, 256, kernel_size=(3, 3), stride=(1, 1), padding=(1, 1))\n",
              "    (9): ReLU()\n",
              "    (10): MaxPool2d(kernel_size=2, stride=2, padding=0, dilation=1, ceil_mode=False)\n",
              "    (11): Conv2d(256, 512, kernel_size=(3, 3), stride=(1, 1), padding=(1, 1))\n",
              "    (12): ReLU()\n",
              "    (13): MaxPool2d(kernel_size=2, stride=2, padding=0, dilation=1, ceil_mode=False)\n",
              "  )\n",
              "  (avgpool): AdaptiveAvgPool2d(output_size=(6, 6))\n",
              "  (classifier): Sequential(\n",
              "    (0): Dropout(p=0.5, inplace=False)\n",
              "    (1): Linear(in_features=18432, out_features=8192, bias=True)\n",
              "    (2): ReLU()\n",
              "    (3): Dropout(p=0.5, inplace=False)\n",
              "    (4): Linear(in_features=8192, out_features=4096, bias=True)\n",
              "    (5): ReLU()\n",
              "    (6): Linear(in_features=4096, out_features=10, bias=True)\n",
              "  )\n",
              ")"
            ]
          },
          "metadata": {},
          "execution_count": 6
        }
      ],
      "source": [
        "if torch.cuda.is_available():\n",
        "    device = torch.device(\"cuda\") \n",
        "else:\n",
        "    device = torch.device(\"cpu\")\n",
        "\n",
        "model.to(device)"
      ],
      "id": "b2e8c108"
    },
    {
      "cell_type": "markdown",
      "source": [
        "# Creating the training function with time stamps for each epoch"
      ],
      "metadata": {
        "id": "bUYH8f5mor-S"
      },
      "id": "bUYH8f5mor-S"
    },
    {
      "cell_type": "code",
      "execution_count": null,
      "metadata": {
        "id": "0734f4b7"
      },
      "outputs": [],
      "source": [
        "import time\n",
        "\n",
        "def train(model, optimizer, loss_fn, train_dl, val_dl, epochs=100, device='cpu'):\n",
        "\n",
        "    print('train() called: model=%s, opt=%s(lr=%f), epochs=%d, device=%s\\n' % \\\n",
        "          (type(model).__name__, type(optimizer).__name__,\n",
        "           optimizer.param_groups[0]['lr'], epochs, device))\n",
        "\n",
        "    collect = {}\n",
        "    collect['loss'] = []\n",
        "    collect['val_loss'] = []\n",
        "    collect['acc'] = []\n",
        "    collect['val_acc'] = []\n",
        "\n",
        "    start_time = time.time()\n",
        "\n",
        "    for epoch in range(1, epochs+1):\n",
        "\n",
        "        #training set\n",
        "        model.train()\n",
        "        train_loss = 0.0\n",
        "        num_train_correct = 0\n",
        "        num_train_examples = 0\n",
        "\n",
        "        for batch in train_dl:\n",
        "\n",
        "            optimizer.zero_grad()\n",
        "\n",
        "            x = batch[0].to(device)\n",
        "            y = batch[1].to(device)\n",
        "            yhat = model(x)\n",
        "            loss = loss_fn(yhat, y)\n",
        "\n",
        "            loss.backward()\n",
        "            optimizer.step()\n",
        "\n",
        "            train_loss += loss.data.item() * x.size(0)\n",
        "            num_train_correct += (torch.max(yhat, 1)[1] == y).sum().item()\n",
        "            num_train_examples += x.shape[0]\n",
        "\n",
        "        train_acc = num_train_correct / num_train_examples\n",
        "        train_loss = train_loss / len(train_dl.dataset)\n",
        "\n",
        "\n",
        "        #validation set\n",
        "        model.eval()\n",
        "        val_loss = 0.0\n",
        "        num_val_correct = 0\n",
        "        num_val_examples = 0\n",
        "\n",
        "        for batch in val_dl:\n",
        "\n",
        "            x = batch[0].to(device)\n",
        "            y = batch[1].to(device)\n",
        "            yhat = model(x)\n",
        "            loss = loss_fn(yhat, y)\n",
        "\n",
        "            val_loss += loss.data.item() * x.size(0)\n",
        "            num_val_correct += (torch.max(yhat, 1)[1] == y).sum().item()\n",
        "            num_val_examples += y.shape[0]\n",
        "\n",
        "        val_acc = num_val_correct / num_val_examples\n",
        "        val_loss = val_loss / len(val_dl.dataset)\n",
        "\n",
        "\n",
        "        if epoch == 1 or epoch % 2 == 0:\n",
        "          print('Epoch %3d/%3d, train loss: %5.2f, train acc: %5.2f, val loss: %5.2f, val acc: %5.2f' % \\\n",
        "                (epoch, epochs, train_loss, train_acc, val_loss, val_acc))\n",
        "\n",
        "        collect['loss'].append(train_loss)\n",
        "        collect['val_loss'].append(val_loss)\n",
        "        collect['acc'].append(train_acc)\n",
        "        collect['val_acc'].append(val_acc)\n",
        "\n",
        "    #end loop\n",
        "\n",
        "\n",
        "    end_time = time.time()\n",
        "    total_time = end_time - start_time\n",
        "    time_per_epoch = total_time / epochs\n",
        "    print()\n",
        "    print('Time total:     %5.2f sec' % (total_time))\n",
        "    print('Time per epoch: %5.2f sec' % (time_per_epoch))\n",
        "\n",
        "    return collect"
      ],
      "id": "0734f4b7"
    },
    {
      "cell_type": "markdown",
      "source": [
        "# Running the model"
      ],
      "metadata": {
        "id": "3sAMD1boo5HO"
      },
      "id": "3sAMD1boo5HO"
    },
    {
      "cell_type": "code",
      "execution_count": null,
      "metadata": {
        "colab": {
          "base_uri": "https://localhost:8080/"
        },
        "id": "68a0739d",
        "outputId": "92627deb-0dad-4e6f-efa1-77abdc25be14"
      },
      "outputs": [
        {
          "output_type": "stream",
          "name": "stdout",
          "text": [
            "train() called: model=CNNModel, opt=Adam(lr=0.001000), epochs=20, device=cuda\n",
            "\n",
            "Epoch   1/ 20, train loss:  1.67, train acc:  0.38, val loss:  1.31, val acc:  0.52\n",
            "Epoch   2/ 20, train loss:  1.23, train acc:  0.56, val loss:  1.06, val acc:  0.62\n",
            "Epoch   4/ 20, train loss:  0.90, train acc:  0.68, val loss:  0.88, val acc:  0.69\n",
            "Epoch   6/ 20, train loss:  0.74, train acc:  0.74, val loss:  0.78, val acc:  0.73\n",
            "Epoch   8/ 20, train loss:  0.63, train acc:  0.78, val loss:  0.76, val acc:  0.75\n",
            "Epoch  10/ 20, train loss:  0.55, train acc:  0.81, val loss:  0.73, val acc:  0.76\n",
            "Epoch  12/ 20, train loss:  0.50, train acc:  0.83, val loss:  0.72, val acc:  0.77\n",
            "Epoch  14/ 20, train loss:  0.44, train acc:  0.85, val loss:  0.74, val acc:  0.76\n",
            "Epoch  16/ 20, train loss:  0.39, train acc:  0.86, val loss:  0.78, val acc:  0.77\n",
            "Epoch  18/ 20, train loss:  0.37, train acc:  0.88, val loss:  0.74, val acc:  0.77\n",
            "Epoch  20/ 20, train loss:  0.33, train acc:  0.89, val loss:  0.76, val acc:  0.77\n",
            "\n",
            "Time total:     4123.77 sec\n",
            "Time per epoch: 206.19 sec\n"
          ]
        }
      ],
      "source": [
        "clf = train(model, optimizer,torch.nn.CrossEntropyLoss(), train_ds,test_ds, epochs=20, device=device)"
      ],
      "id": "68a0739d"
    },
    {
      "cell_type": "markdown",
      "source": [
        "# Visualising the results"
      ],
      "metadata": {
        "id": "d1Qt5NhPo8DN"
      },
      "id": "d1Qt5NhPo8DN"
    },
    {
      "cell_type": "code",
      "execution_count": null,
      "metadata": {
        "colab": {
          "base_uri": "https://localhost:8080/",
          "height": 573
        },
        "id": "ebae662f",
        "outputId": "82a26c24-4932-4440-b01b-d4fa176d0155"
      },
      "outputs": [
        {
          "output_type": "display_data",
          "data": {
            "text/plain": [
              "<Figure size 432x288 with 1 Axes>"
            ],
            "image/png": "[encoded data removed]"
          },
          "metadata": {
            "needs_background": "light"
          }
        },
        {
          "output_type": "display_data",
          "data": {
            "text/plain": [
              "<Figure size 432x288 with 1 Axes>"
            ],
            "image/png": "[encoded data removed]"
          },
          "metadata": {
            "needs_background": "light"
          }
        }
      ],
      "source": [
        "import matplotlib.pyplot as plt\n",
        "\n",
        "acc = clf['acc']\n",
        "val_acc = clf['val_acc']\n",
        "loss = clf['loss']\n",
        "val_loss = clf['val_loss']\n",
        "epochs = range(1, len(acc) + 1)\n",
        "\n",
        "plt.plot(epochs, acc, 'g', label='Training acc')\n",
        "plt.plot(epochs, val_acc, 'b', label='Validation acc')\n",
        "plt.title('Training and validation accuracy')\n",
        "plt.xlabel(\"Epochs\")\n",
        "plt.ylabel(\"Accuracy\")\n",
        "plt.legend()\n",
        "plt.figure()\n",
        "plt.plot(epochs, loss, 'g', label='Training loss')\n",
        "plt.plot(epochs, val_loss, 'b', label='Validation loss')\n",
        "plt.title('Training and validation loss')\n",
        "plt.xlabel(\"Epochs\")\n",
        "plt.ylabel(\"Loss\")\n",
        "plt.legend()\n",
        "plt.show()"
      ],
      "id": "ebae662f"
    },
    {
      "cell_type": "markdown",
      "source": [
        "# Defining the Logistic regression model\n",
        "\n",
        "Cross entropy loss has an inbuilt softmax function hence does need to be explicitly mentioned in the code below for the multiclass logistic regression problem.\n"
      ],
      "metadata": {
        "id": "bvOp0GLcpBu6"
      },
      "id": "bvOp0GLcpBu6"
    },
    {
      "cell_type": "code",
      "execution_count": null,
      "metadata": {
        "id": "36f60700"
      },
      "outputs": [],
      "source": [
        "\n",
        "class Logistic_Regression(nn.Module):\n",
        "    \n",
        "    def __init__(self,num_classes):\n",
        "        \n",
        "        super(Logistic_Regression, self).__init__()\n",
        "        self.Linear = nn.Linear(64*64*3,num_classes)\n",
        "        \n",
        "    def forward(self,x):\n",
        "        \n",
        "        x = x.reshape(-1, 64*64*3)\n",
        "        x = self.Linear(x)\n",
        "        \n",
        "        return x   \n",
        "        "
      ],
      "id": "36f60700"
    },
    {
      "cell_type": "markdown",
      "source": [
        "# Initialising the Logistic regression model"
      ],
      "metadata": {
        "id": "wbB-IOQlpZux"
      },
      "id": "wbB-IOQlpZux"
    },
    {
      "cell_type": "code",
      "execution_count": null,
      "metadata": {
        "colab": {
          "base_uri": "https://localhost:8080/"
        },
        "id": "6485bebb",
        "outputId": "89b1284f-f45a-4deb-a602-e728740a2536"
      },
      "outputs": [
        {
          "output_type": "execute_result",
          "data": {
            "text/plain": [
              "Logistic_Regression(\n",
              "  (Linear): Linear(in_features=12288, out_features=10, bias=True)\n",
              ")"
            ]
          },
          "metadata": {},
          "execution_count": 11
        }
      ],
      "source": [
        "model1 = Logistic_Regression(num_classes = 10)\n",
        "\n",
        "if torch.cuda.is_available():\n",
        "    device = torch.device(\"cuda\") \n",
        "else:\n",
        "    device = torch.device(\"cpu\")\n",
        "\n",
        "model1.to(device)"
      ],
      "id": "6485bebb"
    },
    {
      "cell_type": "markdown",
      "source": [
        "# Using the Stochastic gradient regression optimizer and Cross entropy loss function"
      ],
      "metadata": {
        "id": "TH5WTVapphVz"
      },
      "id": "TH5WTVapphVz"
    },
    {
      "cell_type": "code",
      "execution_count": null,
      "metadata": {
        "id": "601107dd"
      },
      "outputs": [],
      "source": [
        "learningRate = 0.001\n",
        "optimizer = torch.optim.SGD(model1.parameters(), lr=learningRate)"
      ],
      "id": "601107dd"
    },
    {
      "cell_type": "code",
      "execution_count": null,
      "metadata": {
        "colab": {
          "base_uri": "https://localhost:8080/"
        },
        "id": "4c692827",
        "outputId": "b361fb15-f713-446b-b9a4-c0fac4701a40"
      },
      "outputs": [
        {
          "output_type": "stream",
          "name": "stdout",
          "text": [
            "train() called: model=Logistic_Regression, opt=SGD(lr=0.001000), epochs=100, device=cuda\n",
            "\n",
            "Epoch   1/100, train loss:  1.88, train acc:  0.35, val loss:  1.92, val acc:  0.32\n",
            "Epoch   2/100, train loss:  1.80, train acc:  0.39, val loss:  1.90, val acc:  0.33\n",
            "Epoch   4/100, train loss:  1.77, train acc:  0.40, val loss:  1.88, val acc:  0.34\n",
            "Epoch   6/100, train loss:  1.75, train acc:  0.41, val loss:  1.87, val acc:  0.35\n",
            "Epoch   8/100, train loss:  1.73, train acc:  0.41, val loss:  1.87, val acc:  0.35\n",
            "Epoch  10/100, train loss:  1.72, train acc:  0.42, val loss:  1.86, val acc:  0.35\n",
            "Epoch  12/100, train loss:  1.72, train acc:  0.42, val loss:  1.86, val acc:  0.35\n",
            "Epoch  14/100, train loss:  1.71, train acc:  0.42, val loss:  1.86, val acc:  0.35\n",
            "Epoch  16/100, train loss:  1.70, train acc:  0.42, val loss:  1.85, val acc:  0.36\n",
            "Epoch  18/100, train loss:  1.70, train acc:  0.42, val loss:  1.85, val acc:  0.36\n",
            "Epoch  20/100, train loss:  1.69, train acc:  0.43, val loss:  1.85, val acc:  0.36\n",
            "Epoch  22/100, train loss:  1.69, train acc:  0.43, val loss:  1.85, val acc:  0.36\n",
            "Epoch  24/100, train loss:  1.68, train acc:  0.43, val loss:  1.85, val acc:  0.36\n",
            "Epoch  26/100, train loss:  1.68, train acc:  0.43, val loss:  1.85, val acc:  0.36\n",
            "Epoch  28/100, train loss:  1.68, train acc:  0.43, val loss:  1.85, val acc:  0.36\n",
            "Epoch  30/100, train loss:  1.67, train acc:  0.43, val loss:  1.85, val acc:  0.36\n",
            "Epoch  32/100, train loss:  1.67, train acc:  0.43, val loss:  1.85, val acc:  0.36\n",
            "Epoch  34/100, train loss:  1.67, train acc:  0.43, val loss:  1.84, val acc:  0.36\n",
            "Epoch  36/100, train loss:  1.66, train acc:  0.43, val loss:  1.84, val acc:  0.36\n",
            "Epoch  38/100, train loss:  1.66, train acc:  0.43, val loss:  1.84, val acc:  0.36\n",
            "Epoch  40/100, train loss:  1.66, train acc:  0.44, val loss:  1.84, val acc:  0.36\n",
            "Epoch  42/100, train loss:  1.66, train acc:  0.44, val loss:  1.84, val acc:  0.36\n",
            "Epoch  44/100, train loss:  1.66, train acc:  0.44, val loss:  1.84, val acc:  0.36\n",
            "Epoch  46/100, train loss:  1.65, train acc:  0.44, val loss:  1.84, val acc:  0.36\n",
            "Epoch  48/100, train loss:  1.65, train acc:  0.44, val loss:  1.84, val acc:  0.36\n",
            "Epoch  50/100, train loss:  1.65, train acc:  0.44, val loss:  1.84, val acc:  0.36\n",
            "Epoch  52/100, train loss:  1.65, train acc:  0.44, val loss:  1.84, val acc:  0.36\n",
            "Epoch  54/100, train loss:  1.65, train acc:  0.44, val loss:  1.84, val acc:  0.36\n",
            "Epoch  56/100, train loss:  1.65, train acc:  0.44, val loss:  1.84, val acc:  0.36\n",
            "Epoch  58/100, train loss:  1.64, train acc:  0.44, val loss:  1.84, val acc:  0.36\n",
            "Epoch  60/100, train loss:  1.64, train acc:  0.44, val loss:  1.84, val acc:  0.36\n",
            "Epoch  62/100, train loss:  1.64, train acc:  0.44, val loss:  1.84, val acc:  0.36\n",
            "Epoch  64/100, train loss:  1.64, train acc:  0.44, val loss:  1.84, val acc:  0.36\n",
            "Epoch  66/100, train loss:  1.64, train acc:  0.44, val loss:  1.84, val acc:  0.36\n",
            "Epoch  68/100, train loss:  1.64, train acc:  0.44, val loss:  1.84, val acc:  0.36\n",
            "Epoch  70/100, train loss:  1.64, train acc:  0.44, val loss:  1.84, val acc:  0.36\n",
            "Epoch  72/100, train loss:  1.64, train acc:  0.44, val loss:  1.84, val acc:  0.36\n",
            "Epoch  74/100, train loss:  1.63, train acc:  0.44, val loss:  1.84, val acc:  0.36\n",
            "Epoch  76/100, train loss:  1.63, train acc:  0.44, val loss:  1.84, val acc:  0.36\n",
            "Epoch  78/100, train loss:  1.63, train acc:  0.44, val loss:  1.84, val acc:  0.36\n",
            "Epoch  80/100, train loss:  1.63, train acc:  0.44, val loss:  1.84, val acc:  0.36\n",
            "Epoch  82/100, train loss:  1.63, train acc:  0.45, val loss:  1.84, val acc:  0.36\n",
            "Epoch  84/100, train loss:  1.63, train acc:  0.45, val loss:  1.84, val acc:  0.36\n",
            "Epoch  86/100, train loss:  1.63, train acc:  0.45, val loss:  1.84, val acc:  0.36\n",
            "Epoch  88/100, train loss:  1.63, train acc:  0.45, val loss:  1.84, val acc:  0.36\n",
            "Epoch  90/100, train loss:  1.63, train acc:  0.45, val loss:  1.84, val acc:  0.36\n",
            "Epoch  92/100, train loss:  1.63, train acc:  0.45, val loss:  1.84, val acc:  0.36\n",
            "Epoch  94/100, train loss:  1.63, train acc:  0.45, val loss:  1.84, val acc:  0.36\n",
            "Epoch  96/100, train loss:  1.62, train acc:  0.45, val loss:  1.84, val acc:  0.36\n",
            "Epoch  98/100, train loss:  1.62, train acc:  0.45, val loss:  1.84, val acc:  0.37\n",
            "Epoch 100/100, train loss:  1.62, train acc:  0.45, val loss:  1.84, val acc:  0.37\n",
            "\n",
            "Time total:     2802.59 sec\n",
            "Time per epoch: 28.03 sec\n"
          ]
        }
      ],
      "source": [
        "clf1 = train(model1, optimizer,torch.nn.CrossEntropyLoss(), train_ds,test_ds, epochs=100, device=device)"
      ],
      "id": "4c692827"
    },
    {
      "cell_type": "markdown",
      "source": [
        "# Visualizing the results"
      ],
      "metadata": {
        "id": "GLv61la4qbzb"
      },
      "id": "GLv61la4qbzb"
    },
    {
      "cell_type": "code",
      "execution_count": null,
      "metadata": {
        "id": "3774f981",
        "colab": {
          "base_uri": "https://localhost:8080/",
          "height": 573
        },
        "outputId": "26016a14-a041-4e0c-b943-eb1f2f9d1241"
      },
      "outputs": [
        {
          "output_type": "display_data",
          "data": {
            "text/plain": [
              "<Figure size 432x288 with 1 Axes>"
            ],
            "image/png": "[encoded data removed]"
          },
          "metadata": {
            "needs_background": "light"
          }
        },
        {
          "output_type": "display_data",
          "data": {
            "text/plain": [
              "<Figure size 432x288 with 1 Axes>"
            ],
            "image/png": "[encoded data removed]"
          },
          "metadata": {
            "needs_background": "light"
          }
        }
      ],
      "source": [
        "acc = clf1['acc']\n",
        "val_acc = clf1['val_acc']\n",
        "loss = clf1['loss']\n",
        "val_loss = clf1['val_loss']\n",
        "epochs = range(1, len(acc) + 1)\n",
        "\n",
        "plt.plot(epochs, acc, 'g', label='Training acc')\n",
        "plt.plot(epochs, val_acc, 'b', label='Validation acc')\n",
        "plt.title('Training and validation accuracy')\n",
        "plt.xlabel(\"Epochs\")\n",
        "plt.ylabel(\"Accuracy\")\n",
        "plt.legend()\n",
        "plt.figure()\n",
        "plt.plot(epochs, loss, 'g', label='Training loss')\n",
        "plt.plot(epochs, val_loss, 'b', label='Validation loss')\n",
        "plt.title('Training and validation loss')\n",
        "plt.xlabel(\"Epochs\")\n",
        "plt.ylabel(\"Loss\")\n",
        "plt.legend()\n",
        "plt.show()"
      ],
      "id": "3774f981"
    },
    {
      "cell_type": "markdown",
      "source": [
        "# Summary of models"
      ],
      "metadata": {
        "id": "mX6b5xLuqz09"
      },
      "id": "mX6b5xLuqz09"
    },
    {
      "cell_type": "code",
      "source": [
        "from torchsummary import summary\n",
        "print(\"Logistic Regression\")\n",
        "summary(model1, (3, 64, 64))\n",
        "print(\"Convolution Neural Network\")\n",
        "summary(model,(3,64,64))"
      ],
      "metadata": {
        "colab": {
          "base_uri": "https://localhost:8080/"
        },
        "id": "alrKIcgFLqCP",
        "outputId": "88b09270-ffb5-4a15-bd5d-d31fc6adad5e"
      },
      "id": "alrKIcgFLqCP",
      "execution_count": null,
      "outputs": [
        {
          "output_type": "stream",
          "name": "stdout",
          "text": [
            "Convolution Neural Network\n",
            "----------------------------------------------------------------\n",
            "        Layer (type)               Output Shape         Param #\n",
            "================================================================\n",
            "            Linear-1                   [-1, 10]         122,890\n",
            "================================================================\n",
            "Total params: 122,890\n",
            "Trainable params: 122,890\n",
            "Non-trainable params: 0\n",
            "----------------------------------------------------------------\n",
            "Input size (MB): 0.05\n",
            "Forward/backward pass size (MB): 0.00\n",
            "Params size (MB): 0.47\n",
            "Estimated Total Size (MB): 0.52\n",
            "----------------------------------------------------------------\n",
            "Logistic Regression\n",
            "----------------------------------------------------------------\n",
            "        Layer (type)               Output Shape         Param #\n",
            "================================================================\n",
            "            Conv2d-1           [-1, 64, 64, 64]           1,792\n",
            "              ReLU-2           [-1, 64, 64, 64]               0\n",
            "         MaxPool2d-3           [-1, 64, 32, 32]               0\n",
            "            Conv2d-4          [-1, 128, 32, 32]          73,856\n",
            "              ReLU-5          [-1, 128, 32, 32]               0\n",
            "         MaxPool2d-6          [-1, 128, 16, 16]               0\n",
            "            Conv2d-7          [-1, 256, 16, 16]         295,168\n",
            "              ReLU-8          [-1, 256, 16, 16]               0\n",
            "            Conv2d-9          [-1, 256, 16, 16]         590,080\n",
            "             ReLU-10          [-1, 256, 16, 16]               0\n",
            "        MaxPool2d-11            [-1, 256, 8, 8]               0\n",
            "           Conv2d-12            [-1, 512, 8, 8]       1,180,160\n",
            "             ReLU-13            [-1, 512, 8, 8]               0\n",
            "        MaxPool2d-14            [-1, 512, 4, 4]               0\n",
            "AdaptiveAvgPool2d-15            [-1, 512, 6, 6]               0\n",
            "          Dropout-16                [-1, 18432]               0\n",
            "           Linear-17                 [-1, 8192]     151,003,136\n",
            "             ReLU-18                 [-1, 8192]               0\n",
            "          Dropout-19                 [-1, 8192]               0\n",
            "           Linear-20                 [-1, 4096]      33,558,528\n",
            "             ReLU-21                 [-1, 4096]               0\n",
            "           Linear-22                   [-1, 10]          40,970\n",
            "================================================================\n",
            "Total params: 186,743,690\n",
            "Trainable params: 186,743,690\n",
            "Non-trainable params: 0\n",
            "----------------------------------------------------------------\n",
            "Input size (MB): 0.05\n",
            "Forward/backward pass size (MB): 9.97\n",
            "Params size (MB): 712.37\n",
            "Estimated Total Size (MB): 722.39\n",
            "----------------------------------------------------------------\n"
          ]
        }
      ]
    }
  ],
  "metadata": {
    "accelerator": "GPU",
    "colab": {
      "name": "classifying-cifar-using-pytorch-beginner.ipynb",
      "provenance": [],
      "collapsed_sections": []
    },
    "kernelspec": {
      "display_name": "Python 3",
      "language": "python",
      "name": "python3"
    },
    "language_info": {
      "codemirror_mode": {
        "name": "ipython",
        "version": 3
      },
      "file_extension": ".py",
      "mimetype": "text/x-python",
      "name": "python",
      "nbconvert_exporter": "python",
      "pygments_lexer": "ipython3",
      "version": "3.7.12"
    },
    "papermill": {
      "default_parameters": {},
      "duration": 1929.969819,
      "end_time": "2022-04-05T04:34:01.228542",
      "environment_variables": {},
      "exception": null,
      "input_path": "__notebook__.ipynb",
      "output_path": "__notebook__.ipynb",
      "parameters": {},
      "start_time": "2022-04-05T04:01:51.258723",
      "version": "2.3.3"
    },
    "widgets": {
      "application/vnd.jupyter.widget-state+json": {
        "bb2f93ef592c4ec1bfcedabeefc1e267": {
          "model_module": "@jupyter-widgets/controls",
          "model_name": "HBoxModel",
          "model_module_version": "1.5.0",
          "state": {
            "_dom_classes": [],
            "_model_module": "@jupyter-widgets/controls",
            "_model_module_version": "1.5.0",
            "_model_name": "HBoxModel",
            "_view_count": null,
            "_view_module": "@jupyter-widgets/controls",
            "_view_module_version": "1.5.0",
            "_view_name": "HBoxView",
            "box_style": "",
            "children": [
              "IPY_MODEL_c560324abd924356b02846490199b7ed",
              "IPY_MODEL_0e1574f90e734816b441e4ad6c1e3029",
              "IPY_MODEL_7623117b094944e7a0ed129d676832db"
            ],
            "layout": "IPY_MODEL_3dcef636f56947d8913b6d3976601b2e"
          }
        },
        "c560324abd924356b02846490199b7ed": {
          "model_module": "@jupyter-widgets/controls",
          "model_name": "HTMLModel",
          "model_module_version": "1.5.0",
          "state": {
            "_dom_classes": [],
            "_model_module": "@jupyter-widgets/controls",
            "_model_module_version": "1.5.0",
            "_model_name": "HTMLModel",
            "_view_count": null,
            "_view_module": "@jupyter-widgets/controls",
            "_view_module_version": "1.5.0",
            "_view_name": "HTMLView",
            "description": "",
            "description_tooltip": null,
            "layout": "IPY_MODEL_3d3051fa629049d18a83f982808c3cad",
            "placeholder": "​",
            "style": "IPY_MODEL_d3d8da4f77c74a1c931c92dea4e59c1f",
            "value": ""
          }
        },
        "0e1574f90e734816b441e4ad6c1e3029": {
          "model_module": "@jupyter-widgets/controls",
          "model_name": "FloatProgressModel",
          "model_module_version": "1.5.0",
          "state": {
            "_dom_classes": [],
            "_model_module": "@jupyter-widgets/controls",
            "_model_module_version": "1.5.0",
            "_model_name": "FloatProgressModel",
            "_view_count": null,
            "_view_module": "@jupyter-widgets/controls",
            "_view_module_version": "1.5.0",
            "_view_name": "ProgressView",
            "bar_style": "success",
            "description": "",
            "description_tooltip": null,
            "layout": "IPY_MODEL_b304fcadfd6d445b89ec1954dc571be1",
            "max": 170498071,
            "min": 0,
            "orientation": "horizontal",
            "style": "IPY_MODEL_e8d92174b0874bc1a64bdb42c08af1f0",
            "value": 170498071
          }
        },
        "7623117b094944e7a0ed129d676832db": {
          "model_module": "@jupyter-widgets/controls",
          "model_name": "HTMLModel",
          "model_module_version": "1.5.0",
          "state": {
            "_dom_classes": [],
            "_model_module": "@jupyter-widgets/controls",
            "_model_module_version": "1.5.0",
            "_model_name": "HTMLModel",
            "_view_count": null,
            "_view_module": "@jupyter-widgets/controls",
            "_view_module_version": "1.5.0",
            "_view_name": "HTMLView",
            "description": "",
            "description_tooltip": null,
            "layout": "IPY_MODEL_24f444ba1f9d4941b2c5e245252f63c4",
            "placeholder": "​",
            "style": "IPY_MODEL_2927b7e4bace461191397f834abb9795",
            "value": " 170499072/? [00:11&lt;00:00, 16805702.95it/s]"
          }
        },
        "3dcef636f56947d8913b6d3976601b2e": {
          "model_module": "@jupyter-widgets/base",
          "model_name": "LayoutModel",
          "model_module_version": "1.2.0",
          "state": {
            "_model_module": "@jupyter-widgets/base",
            "_model_module_version": "1.2.0",
            "_model_name": "LayoutModel",
            "_view_count": null,
            "_view_module": "@jupyter-widgets/base",
            "_view_module_version": "1.2.0",
            "_view_name": "LayoutView",
            "align_content": null,
            "align_items": null,
            "align_self": null,
            "border": null,
            "bottom": null,
            "display": null,
            "flex": null,
            "flex_flow": null,
            "grid_area": null,
            "grid_auto_columns": null,
            "grid_auto_flow": null,
            "grid_auto_rows": null,
            "grid_column": null,
            "grid_gap": null,
            "grid_row": null,
            "grid_template_areas": null,
            "grid_template_columns": null,
            "grid_template_rows": null,
            "height": null,
            "justify_content": null,
            "justify_items": null,
            "left": null,
            "margin": null,
            "max_height": null,
            "max_width": null,
            "min_height": null,
            "min_width": null,
            "object_fit": null,
            "object_position": null,
            "order": null,
            "overflow": null,
            "overflow_x": null,
            "overflow_y": null,
            "padding": null,
            "right": null,
            "top": null,
            "visibility": null,
            "width": null
          }
        },
        "3d3051fa629049d18a83f982808c3cad": {
          "model_module": "@jupyter-widgets/base",
          "model_name": "LayoutModel",
          "model_module_version": "1.2.0",
          "state": {
            "_model_module": "@jupyter-widgets/base",
            "_model_module_version": "1.2.0",
            "_model_name": "LayoutModel",
            "_view_count": null,
            "_view_module": "@jupyter-widgets/base",
            "_view_module_version": "1.2.0",
            "_view_name": "LayoutView",
            "align_content": null,
            "align_items": null,
            "align_self": null,
            "border": null,
            "bottom": null,
            "display": null,
            "flex": null,
            "flex_flow": null,
            "grid_area": null,
            "grid_auto_columns": null,
            "grid_auto_flow": null,
            "grid_auto_rows": null,
            "grid_column": null,
            "grid_gap": null,
            "grid_row": null,
            "grid_template_areas": null,
            "grid_template_columns": null,
            "grid_template_rows": null,
            "height": null,
            "justify_content": null,
            "justify_items": null,
            "left": null,
            "margin": null,
            "max_height": null,
            "max_width": null,
            "min_height": null,
            "min_width": null,
            "object_fit": null,
            "object_position": null,
            "order": null,
            "overflow": null,
            "overflow_x": null,
            "overflow_y": null,
            "padding": null,
            "right": null,
            "top": null,
            "visibility": null,
            "width": null
          }
        },
        "d3d8da4f77c74a1c931c92dea4e59c1f": {
          "model_module": "@jupyter-widgets/controls",
          "model_name": "DescriptionStyleModel",
          "model_module_version": "1.5.0",
          "state": {
            "_model_module": "@jupyter-widgets/controls",
            "_model_module_version": "1.5.0",
            "_model_name": "DescriptionStyleModel",
            "_view_count": null,
            "_view_module": "@jupyter-widgets/base",
            "_view_module_version": "1.2.0",
            "_view_name": "StyleView",
            "description_width": ""
          }
        },
        "b304fcadfd6d445b89ec1954dc571be1": {
          "model_module": "@jupyter-widgets/base",
          "model_name": "LayoutModel",
          "model_module_version": "1.2.0",
          "state": {
            "_model_module": "@jupyter-widgets/base",
            "_model_module_version": "1.2.0",
            "_model_name": "LayoutModel",
            "_view_count": null,
            "_view_module": "@jupyter-widgets/base",
            "_view_module_version": "1.2.0",
            "_view_name": "LayoutView",
            "align_content": null,
            "align_items": null,
            "align_self": null,
            "border": null,
            "bottom": null,
            "display": null,
            "flex": null,
            "flex_flow": null,
            "grid_area": null,
            "grid_auto_columns": null,
            "grid_auto_flow": null,
            "grid_auto_rows": null,
            "grid_column": null,
            "grid_gap": null,
            "grid_row": null,
            "grid_template_areas": null,
            "grid_template_columns": null,
            "grid_template_rows": null,
            "height": null,
            "justify_content": null,
            "justify_items": null,
            "left": null,
            "margin": null,
            "max_height": null,
            "max_width": null,
            "min_height": null,
            "min_width": null,
            "object_fit": null,
            "object_position": null,
            "order": null,
            "overflow": null,
            "overflow_x": null,
            "overflow_y": null,
            "padding": null,
            "right": null,
            "top": null,
            "visibility": null,
            "width": null
          }
        },
        "e8d92174b0874bc1a64bdb42c08af1f0": {
          "model_module": "@jupyter-widgets/controls",
          "model_name": "ProgressStyleModel",
          "model_module_version": "1.5.0",
          "state": {
            "_model_module": "@jupyter-widgets/controls",
            "_model_module_version": "1.5.0",
            "_model_name": "ProgressStyleModel",
            "_view_count": null,
            "_view_module": "@jupyter-widgets/base",
            "_view_module_version": "1.2.0",
            "_view_name": "StyleView",
            "bar_color": null,
            "description_width": ""
          }
        },
        "24f444ba1f9d4941b2c5e245252f63c4": {
          "model_module": "@jupyter-widgets/base",
          "model_name": "LayoutModel",
          "model_module_version": "1.2.0",
          "state": {
            "_model_module": "@jupyter-widgets/base",
            "_model_module_version": "1.2.0",
            "_model_name": "LayoutModel",
            "_view_count": null,
            "_view_module": "@jupyter-widgets/base",
            "_view_module_version": "1.2.0",
            "_view_name": "LayoutView",
            "align_content": null,
            "align_items": null,
            "align_self": null,
            "border": null,
            "bottom": null,
            "display": null,
            "flex": null,
            "flex_flow": null,
            "grid_area": null,
            "grid_auto_columns": null,
            "grid_auto_flow": null,
            "grid_auto_rows": null,
            "grid_column": null,
            "grid_gap": null,
            "grid_row": null,
            "grid_template_areas": null,
            "grid_template_columns": null,
            "grid_template_rows": null,
            "height": null,
            "justify_content": null,
            "justify_items": null,
            "left": null,
            "margin": null,
            "max_height": null,
            "max_width": null,
            "min_height": null,
            "min_width": null,
            "object_fit": null,
            "object_position": null,
            "order": null,
            "overflow": null,
            "overflow_x": null,
            "overflow_y": null,
            "padding": null,
            "right": null,
            "top": null,
            "visibility": null,
            "width": null
          }
        },
        "2927b7e4bace461191397f834abb9795": {
          "model_module": "@jupyter-widgets/controls",
          "model_name": "DescriptionStyleModel",
          "model_module_version": "1.5.0",
          "state": {
            "_model_module": "@jupyter-widgets/controls",
            "_model_module_version": "1.5.0",
            "_model_name": "DescriptionStyleModel",
            "_view_count": null,
            "_view_module": "@jupyter-widgets/base",
            "_view_module_version": "1.2.0",
            "_view_name": "StyleView",
            "description_width": ""
          }
        }
      }
    }
  },
  "nbformat": 4,
  "nbformat_minor": 5
}